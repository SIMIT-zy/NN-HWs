{
 "cells": [
  {
   "cell_type": "markdown",
   "id": "6895126e-f05c-478f-8fbf-cd446407a502",
   "metadata": {},
   "source": [
    "__SC24219070 朱越__"
   ]
  },
  {
   "cell_type": "markdown",
   "id": "b0eb87bc-cb0a-461e-b93c-f8e2433e9212",
   "metadata": {},
   "source": [
    "# 导入库与加载数据\n",
    "\n",
    "程序结构参考了各论坛相关例程内容，把基础RNN结构中的SimpleRNN块换成了LSTM块。\n",
    "\n",
    "## 加载必要的库，然后使用tensorflow.keras中的工具加载数据集"
   ]
  },
  {
   "cell_type": "code",
   "execution_count": 1,
   "id": "50697e62-9eb2-4bd1-89e5-2061d4a9bf23",
   "metadata": {},
   "outputs": [],
   "source": [
    "import os\n",
    "os.environ['KERAS_HOME'] = './datas/keras'  # 设置数据集路径\n",
    "import matplotlib.pyplot as plt\n",
    "from tensorflow.keras.datasets import imdb\n",
    "from tensorflow.keras.preprocessing import sequence\n",
    "from tensorflow.keras.models import Sequential, load_model\n",
    "from tensorflow.keras.layers import Embedding, LSTM, Dense"
   ]
  },
  {
   "cell_type": "code",
   "execution_count": 2,
   "id": "6c80bc09-a083-4709-9ae0-9ea145232164",
   "metadata": {},
   "outputs": [],
   "source": [
    "# 加载数据集\n",
    "num_words = 10000\n",
    "(train_data, train_labels), (test_data, test_labels) = imdb.load_data(num_words=num_words, seed=42)\n",
    "class_names = [\"Negative\", \"Positive\"]"
   ]
  },
  {
   "cell_type": "markdown",
   "id": "8a212bac-9606-4898-99e6-0373f6195ebe",
   "metadata": {},
   "source": [
    "## 先打印一部分训练集看一下导入的情况"
   ]
  },
  {
   "cell_type": "code",
   "execution_count": 3,
   "id": "97d0ae90-f37b-46d2-a01b-f57d01e86ec0",
   "metadata": {},
   "outputs": [
    {
     "name": "stdout",
     "output_type": "stream",
     "text": [
      "训练样本数: 25000\n",
      "测试样本数: 25000\n",
      "第一条评论的整数序列: [1, 11, 4079, 11, 4, 1986, 745, 3304, 299, 1206, 590, 3029, 1042, 37, 47, 27, 1269, 2, 7637, 19, 6, 3586, 15, 1367, 3196, 17, 1002, 723, 1768, 2887, 757, 46, 4, 232, 1131, 39, 107, 3589, 11, 4, 4539, 198, 24, 4, 1834, 133, 4, 107, 7, 98, 413, 8911, 5835, 11, 35, 781, 8, 169, 4, 2179, 5, 259, 334, 3773, 8, 4, 3497, 10, 10, 17, 16, 3381, 46, 34, 101, 612, 7, 84, 18, 49, 282, 167, 2, 7173, 122, 24, 1414, 8, 177, 4, 392, 531, 19, 259, 15, 934, 40, 507, 39, 2, 260, 77, 8, 162, 5097, 121, 4, 65, 304, 273, 13, 70, 1276, 2, 8, 15, 745, 3304, 5, 27, 322, 2197, 2, 2, 70, 30, 2, 88, 17, 6, 3029, 1042, 29, 100, 30, 4943, 50, 21, 18, 148, 15, 26, 5980, 12, 152, 157, 10, 10, 21, 19, 3196, 46, 50, 5, 4, 1636, 112, 828, 6, 1003, 4, 162, 5097, 2, 517, 6, 2, 7, 4, 9527, 5593, 4, 351, 232, 385, 125, 6, 1693, 39, 2383, 5, 29, 69, 5593, 5670, 6, 162, 5097, 1567, 232, 256, 34, 718, 5612, 2980, 8, 6, 226, 762, 7, 2, 7830, 5, 517, 2, 6, 3242, 7, 4, 351, 232, 37, 9, 1861, 8, 123, 3196, 2, 5612, 188, 5165, 857, 11, 4, 86, 22, 121, 29, 1990, 1495, 10, 10, 1276, 61, 514, 11, 14, 22, 9, 1456, 9533, 14, 575, 208, 159, 9533, 16, 2, 5, 187, 15, 58, 29, 93, 6, 2, 7, 395, 62, 30, 1211, 493, 37, 26, 66, 2, 29, 299, 4, 172, 243, 7, 217, 11, 4, 2, 7106, 22, 4, 2, 1038, 13, 70, 243, 7, 3468, 19, 9533, 11, 15, 236, 1313, 136, 121, 29, 5, 5612, 26, 112, 4382, 180, 34, 3304, 1768, 5, 320, 4, 162, 5097, 568, 319, 4, 3324, 5235, 1456, 269, 8, 401, 56, 19, 5612, 16, 142, 334, 88, 146, 243, 7, 11, 2, 2756, 150, 11, 4, 2, 2550, 10, 10, 7173, 828, 4, 206, 170, 33, 6, 52, 4968, 225, 55, 117, 180, 58, 11, 14, 22, 48, 50, 16, 101, 329, 12, 62, 30, 35, 6637, 1532, 22, 4079, 11, 4, 1986, 1199, 35, 735, 18, 118, 204, 881, 15, 291, 10, 10, 7173, 82, 93, 52, 361, 7, 4, 162, 5097, 2, 5, 4, 785, 6542, 49, 7, 4, 172, 2572, 7, 665, 26, 303, 343, 11, 23, 4, 2, 11, 192, 4079, 11, 4, 1986, 9, 44, 84, 24, 2, 54, 36, 66, 144, 11, 68, 205, 118, 602, 55, 729, 174, 8, 23, 4, 2, 10, 10, 4079, 11, 4, 1986, 127, 316, 2606, 37, 16, 3445, 19, 12, 150, 138, 426, 2, 7173, 79, 49, 542, 162, 5097, 4413, 84, 11, 4, 392, 555]\n",
      "第一条评论的文本内容: ? in panic in the streets richard widmark plays u s navy doctor who has his week ? interrupted with a corpse that contains plague as cop paul douglas properly points out the guy died from two bullets in the chest that's not the issue here the two of them become unwilling partners in an effort to find the killers and anyone else exposed to the disease br br as was pointed out by any number of people for some reason director ? kazan did not bother to cast the small parts with anyone that sounds li\n",
      "第一条评论的标签: Positive\n"
     ]
    }
   ],
   "source": [
    "# 获取单词到整数的映射字典\n",
    "word_index = imdb.get_word_index()\n",
    "# 反转字典（整数 -> 单词）\n",
    "word_list = {v: k for k, v in word_index.items()}\n",
    "# 将整数序列解码为文本（注意索引偏移 3：0=padding，1=start，2=unknown）\n",
    "decoded_review = ' '.join([word_list.get(i - 3, '?') for i in train_data[0]])\n",
    "print(\"训练样本数:\", len(train_data))  # 输出: 25000\n",
    "print(\"测试样本数:\", len(test_data))   # 输出: 25000\n",
    "print(\"第一条评论的整数序列:\", train_data[0][:500])\n",
    "print(\"第一条评论的文本内容:\", decoded_review[:500])\n",
    "print(\"第一条评论的标签:\", class_names[train_labels[0]])  # 0 或 1"
   ]
  },
  {
   "cell_type": "markdown",
   "id": "634900e3-ec4e-4e1a-a7b6-4521404536b4",
   "metadata": {},
   "source": [
    "可以看到数据集已经正确导入了。\n",
    "\n",
    "另外，因为keras中导入的imdb库已经执行了文本的预处理——它将数据集中出现的单词根据词频排序并编码——因此不需要再执行文本处理了。"
   ]
  },
  {
   "cell_type": "markdown",
   "id": "f526ebfe-2269-4721-b424-80af67654341",
   "metadata": {},
   "source": [
    "## 定义了训练中用到的变量、定义了网络结构、损失函数和优化方法\n",
    "\n",
    "在训练前需要先对文本切片和标准化。\n",
    "\n",
    "网络搭建和优化方法、损失函数、评价指标都使用了tensorflow.keras库中的集成方法。\n",
    "\n",
    "感觉仿佛什么都没做，但是已经做完了，哈哈！"
   ]
  },
  {
   "cell_type": "code",
   "execution_count": 4,
   "id": "4312a549-16ad-4af4-9656-291a402fd689",
   "metadata": {},
   "outputs": [],
   "source": [
    "epochs = 20\n",
    "batch_size = 128\n",
    "sequences_len = 500\n",
    "\n",
    "# 将序列填充/截断为固定长度（例如 500 单词）\n",
    "train_sequences = sequence.pad_sequences(train_data, maxlen=sequences_len)\n",
    "test_sequences = sequence.pad_sequences(test_data, maxlen=sequences_len)\n",
    "model = Sequential([\n",
    "    # 嵌入层：将整数索引映射为 32 维向量\n",
    "    Embedding(input_dim=num_words, output_dim=32),\n",
    "    # LSTM 层：32 个隐藏单元\n",
    "    LSTM(32, dropout=0.2, recurrent_dropout=0.2),  # 使用 LSTM 单元\n",
    "    # 输出层：二分类（sigmoid）\n",
    "    Dense(1, activation='sigmoid')\n",
    "])\n",
    "model.compile(optimizer='rmsprop',\n",
    "             loss='binary_crossentropy',\n",
    "             metrics=['accuracy'])"
   ]
  },
  {
   "cell_type": "markdown",
   "id": "ab988511-10c5-400d-a8e1-cf017b45fea0",
   "metadata": {},
   "source": [
    "打印网络的情况观察一下。"
   ]
  },
  {
   "cell_type": "code",
   "execution_count": 5,
   "id": "e97d7b86-0604-4d94-972e-57e7bd5daffc",
   "metadata": {},
   "outputs": [
    {
     "data": {
      "text/html": [
       "<pre style=\"white-space:pre;overflow-x:auto;line-height:normal;font-family:Menlo,'DejaVu Sans Mono',consolas,'Courier New',monospace\"><span style=\"font-weight: bold\">Model: \"sequential\"</span>\n",
       "</pre>\n"
      ],
      "text/plain": [
       "\u001b[1mModel: \"sequential\"\u001b[0m\n"
      ]
     },
     "metadata": {},
     "output_type": "display_data"
    },
    {
     "data": {
      "text/html": [
       "<pre style=\"white-space:pre;overflow-x:auto;line-height:normal;font-family:Menlo,'DejaVu Sans Mono',consolas,'Courier New',monospace\">┏━━━━━━━━━━━━━━━━━━━━━━━━━━━━━━━━━━━━━━┳━━━━━━━━━━━━━━━━━━━━━━━━━━━━━┳━━━━━━━━━━━━━━━━━┓\n",
       "┃<span style=\"font-weight: bold\"> Layer (type)                         </span>┃<span style=\"font-weight: bold\"> Output Shape                </span>┃<span style=\"font-weight: bold\">         Param # </span>┃\n",
       "┡━━━━━━━━━━━━━━━━━━━━━━━━━━━━━━━━━━━━━━╇━━━━━━━━━━━━━━━━━━━━━━━━━━━━━╇━━━━━━━━━━━━━━━━━┩\n",
       "│ embedding (<span style=\"color: #0087ff; text-decoration-color: #0087ff\">Embedding</span>)                │ (<span style=\"color: #00af00; text-decoration-color: #00af00\">128</span>, <span style=\"color: #00af00; text-decoration-color: #00af00\">500</span>, <span style=\"color: #00af00; text-decoration-color: #00af00\">32</span>)              │         <span style=\"color: #00af00; text-decoration-color: #00af00\">320,000</span> │\n",
       "├──────────────────────────────────────┼─────────────────────────────┼─────────────────┤\n",
       "│ lstm (<span style=\"color: #0087ff; text-decoration-color: #0087ff\">LSTM</span>)                          │ (<span style=\"color: #00af00; text-decoration-color: #00af00\">128</span>, <span style=\"color: #00af00; text-decoration-color: #00af00\">32</span>)                   │           <span style=\"color: #00af00; text-decoration-color: #00af00\">8,320</span> │\n",
       "├──────────────────────────────────────┼─────────────────────────────┼─────────────────┤\n",
       "│ dense (<span style=\"color: #0087ff; text-decoration-color: #0087ff\">Dense</span>)                        │ (<span style=\"color: #00af00; text-decoration-color: #00af00\">128</span>, <span style=\"color: #00af00; text-decoration-color: #00af00\">1</span>)                    │              <span style=\"color: #00af00; text-decoration-color: #00af00\">33</span> │\n",
       "└──────────────────────────────────────┴─────────────────────────────┴─────────────────┘\n",
       "</pre>\n"
      ],
      "text/plain": [
       "┏━━━━━━━━━━━━━━━━━━━━━━━━━━━━━━━━━━━━━━┳━━━━━━━━━━━━━━━━━━━━━━━━━━━━━┳━━━━━━━━━━━━━━━━━┓\n",
       "┃\u001b[1m \u001b[0m\u001b[1mLayer (type)                        \u001b[0m\u001b[1m \u001b[0m┃\u001b[1m \u001b[0m\u001b[1mOutput Shape               \u001b[0m\u001b[1m \u001b[0m┃\u001b[1m \u001b[0m\u001b[1m        Param #\u001b[0m\u001b[1m \u001b[0m┃\n",
       "┡━━━━━━━━━━━━━━━━━━━━━━━━━━━━━━━━━━━━━━╇━━━━━━━━━━━━━━━━━━━━━━━━━━━━━╇━━━━━━━━━━━━━━━━━┩\n",
       "│ embedding (\u001b[38;5;33mEmbedding\u001b[0m)                │ (\u001b[38;5;34m128\u001b[0m, \u001b[38;5;34m500\u001b[0m, \u001b[38;5;34m32\u001b[0m)              │         \u001b[38;5;34m320,000\u001b[0m │\n",
       "├──────────────────────────────────────┼─────────────────────────────┼─────────────────┤\n",
       "│ lstm (\u001b[38;5;33mLSTM\u001b[0m)                          │ (\u001b[38;5;34m128\u001b[0m, \u001b[38;5;34m32\u001b[0m)                   │           \u001b[38;5;34m8,320\u001b[0m │\n",
       "├──────────────────────────────────────┼─────────────────────────────┼─────────────────┤\n",
       "│ dense (\u001b[38;5;33mDense\u001b[0m)                        │ (\u001b[38;5;34m128\u001b[0m, \u001b[38;5;34m1\u001b[0m)                    │              \u001b[38;5;34m33\u001b[0m │\n",
       "└──────────────────────────────────────┴─────────────────────────────┴─────────────────┘\n"
      ]
     },
     "metadata": {},
     "output_type": "display_data"
    },
    {
     "data": {
      "text/html": [
       "<pre style=\"white-space:pre;overflow-x:auto;line-height:normal;font-family:Menlo,'DejaVu Sans Mono',consolas,'Courier New',monospace\"><span style=\"font-weight: bold\"> Total params: </span><span style=\"color: #00af00; text-decoration-color: #00af00\">328,353</span> (1.25 MB)\n",
       "</pre>\n"
      ],
      "text/plain": [
       "\u001b[1m Total params: \u001b[0m\u001b[38;5;34m328,353\u001b[0m (1.25 MB)\n"
      ]
     },
     "metadata": {},
     "output_type": "display_data"
    },
    {
     "data": {
      "text/html": [
       "<pre style=\"white-space:pre;overflow-x:auto;line-height:normal;font-family:Menlo,'DejaVu Sans Mono',consolas,'Courier New',monospace\"><span style=\"font-weight: bold\"> Trainable params: </span><span style=\"color: #00af00; text-decoration-color: #00af00\">328,353</span> (1.25 MB)\n",
       "</pre>\n"
      ],
      "text/plain": [
       "\u001b[1m Trainable params: \u001b[0m\u001b[38;5;34m328,353\u001b[0m (1.25 MB)\n"
      ]
     },
     "metadata": {},
     "output_type": "display_data"
    },
    {
     "data": {
      "text/html": [
       "<pre style=\"white-space:pre;overflow-x:auto;line-height:normal;font-family:Menlo,'DejaVu Sans Mono',consolas,'Courier New',monospace\"><span style=\"font-weight: bold\"> Non-trainable params: </span><span style=\"color: #00af00; text-decoration-color: #00af00\">0</span> (0.00 B)\n",
       "</pre>\n"
      ],
      "text/plain": [
       "\u001b[1m Non-trainable params: \u001b[0m\u001b[38;5;34m0\u001b[0m (0.00 B)\n"
      ]
     },
     "metadata": {},
     "output_type": "display_data"
    }
   ],
   "source": [
    "model.build(input_shape=(batch_size, sequences_len))  # (batch_size, sequence_length)\n",
    "model.summary()"
   ]
  },
  {
   "cell_type": "markdown",
   "id": "17725a9a-79a2-43fe-bec9-b411b906bd24",
   "metadata": {},
   "source": [
    "# 开始炼！\n",
    "训练也只有一句啊！"
   ]
  },
  {
   "cell_type": "code",
   "execution_count": 6,
   "id": "6671fcb3-75a2-46bf-a734-135325f9c074",
   "metadata": {},
   "outputs": [
    {
     "name": "stdout",
     "output_type": "stream",
     "text": [
      "Epoch 1/20\n",
      "\u001b[1m157/157\u001b[0m \u001b[32m━━━━━━━━━━━━━━━━━━━━\u001b[0m\u001b[37m\u001b[0m \u001b[1m70s\u001b[0m 427ms/step - accuracy: 0.5692 - loss: 0.6798 - val_accuracy: 0.7746 - val_loss: 0.5147\n",
      "Epoch 2/20\n",
      "\u001b[1m157/157\u001b[0m \u001b[32m━━━━━━━━━━━━━━━━━━━━\u001b[0m\u001b[37m\u001b[0m \u001b[1m64s\u001b[0m 409ms/step - accuracy: 0.7751 - loss: 0.4957 - val_accuracy: 0.8338 - val_loss: 0.3933\n",
      "Epoch 3/20\n",
      "\u001b[1m157/157\u001b[0m \u001b[32m━━━━━━━━━━━━━━━━━━━━\u001b[0m\u001b[37m\u001b[0m \u001b[1m67s\u001b[0m 427ms/step - accuracy: 0.8337 - loss: 0.3945 - val_accuracy: 0.8132 - val_loss: 0.4114\n",
      "Epoch 4/20\n",
      "\u001b[1m157/157\u001b[0m \u001b[32m━━━━━━━━━━━━━━━━━━━━\u001b[0m\u001b[37m\u001b[0m \u001b[1m69s\u001b[0m 437ms/step - accuracy: 0.8574 - loss: 0.3514 - val_accuracy: 0.8130 - val_loss: 0.4125\n",
      "Epoch 5/20\n",
      "\u001b[1m157/157\u001b[0m \u001b[32m━━━━━━━━━━━━━━━━━━━━\u001b[0m\u001b[37m\u001b[0m \u001b[1m74s\u001b[0m 471ms/step - accuracy: 0.8811 - loss: 0.3080 - val_accuracy: 0.8182 - val_loss: 0.4064\n",
      "Epoch 6/20\n",
      "\u001b[1m157/157\u001b[0m \u001b[32m━━━━━━━━━━━━━━━━━━━━\u001b[0m\u001b[37m\u001b[0m \u001b[1m69s\u001b[0m 440ms/step - accuracy: 0.8869 - loss: 0.2913 - val_accuracy: 0.8546 - val_loss: 0.3467\n",
      "Epoch 7/20\n",
      "\u001b[1m157/157\u001b[0m \u001b[32m━━━━━━━━━━━━━━━━━━━━\u001b[0m\u001b[37m\u001b[0m \u001b[1m69s\u001b[0m 437ms/step - accuracy: 0.9012 - loss: 0.2617 - val_accuracy: 0.8386 - val_loss: 0.3677\n",
      "Epoch 8/20\n",
      "\u001b[1m157/157\u001b[0m \u001b[32m━━━━━━━━━━━━━━━━━━━━\u001b[0m\u001b[37m\u001b[0m \u001b[1m69s\u001b[0m 439ms/step - accuracy: 0.8999 - loss: 0.2620 - val_accuracy: 0.8506 - val_loss: 0.3659\n",
      "Epoch 9/20\n",
      "\u001b[1m157/157\u001b[0m \u001b[32m━━━━━━━━━━━━━━━━━━━━\u001b[0m\u001b[37m\u001b[0m \u001b[1m69s\u001b[0m 440ms/step - accuracy: 0.9071 - loss: 0.2387 - val_accuracy: 0.8284 - val_loss: 0.3976\n",
      "Epoch 10/20\n",
      "\u001b[1m157/157\u001b[0m \u001b[32m━━━━━━━━━━━━━━━━━━━━\u001b[0m\u001b[37m\u001b[0m \u001b[1m70s\u001b[0m 446ms/step - accuracy: 0.9147 - loss: 0.2268 - val_accuracy: 0.8246 - val_loss: 0.3997\n",
      "Epoch 11/20\n",
      "\u001b[1m157/157\u001b[0m \u001b[32m━━━━━━━━━━━━━━━━━━━━\u001b[0m\u001b[37m\u001b[0m \u001b[1m70s\u001b[0m 444ms/step - accuracy: 0.9223 - loss: 0.2083 - val_accuracy: 0.8400 - val_loss: 0.3901\n",
      "Epoch 12/20\n",
      "\u001b[1m157/157\u001b[0m \u001b[32m━━━━━━━━━━━━━━━━━━━━\u001b[0m\u001b[37m\u001b[0m \u001b[1m68s\u001b[0m 435ms/step - accuracy: 0.9225 - loss: 0.2111 - val_accuracy: 0.8694 - val_loss: 0.3631\n",
      "Epoch 13/20\n",
      "\u001b[1m157/157\u001b[0m \u001b[32m━━━━━━━━━━━━━━━━━━━━\u001b[0m\u001b[37m\u001b[0m \u001b[1m69s\u001b[0m 441ms/step - accuracy: 0.9237 - loss: 0.2016 - val_accuracy: 0.8502 - val_loss: 0.4100\n",
      "Epoch 14/20\n",
      "\u001b[1m157/157\u001b[0m \u001b[32m━━━━━━━━━━━━━━━━━━━━\u001b[0m\u001b[37m\u001b[0m \u001b[1m69s\u001b[0m 441ms/step - accuracy: 0.9299 - loss: 0.1913 - val_accuracy: 0.8342 - val_loss: 0.4006\n",
      "Epoch 15/20\n",
      "\u001b[1m157/157\u001b[0m \u001b[32m━━━━━━━━━━━━━━━━━━━━\u001b[0m\u001b[37m\u001b[0m \u001b[1m69s\u001b[0m 438ms/step - accuracy: 0.9324 - loss: 0.1841 - val_accuracy: 0.8210 - val_loss: 0.4418\n",
      "Epoch 16/20\n",
      "\u001b[1m157/157\u001b[0m \u001b[32m━━━━━━━━━━━━━━━━━━━━\u001b[0m\u001b[37m\u001b[0m \u001b[1m70s\u001b[0m 444ms/step - accuracy: 0.9367 - loss: 0.1763 - val_accuracy: 0.8468 - val_loss: 0.4394\n",
      "Epoch 17/20\n",
      "\u001b[1m157/157\u001b[0m \u001b[32m━━━━━━━━━━━━━━━━━━━━\u001b[0m\u001b[37m\u001b[0m \u001b[1m70s\u001b[0m 445ms/step - accuracy: 0.9416 - loss: 0.1636 - val_accuracy: 0.8388 - val_loss: 0.4130\n",
      "Epoch 18/20\n",
      "\u001b[1m157/157\u001b[0m \u001b[32m━━━━━━━━━━━━━━━━━━━━\u001b[0m\u001b[37m\u001b[0m \u001b[1m72s\u001b[0m 455ms/step - accuracy: 0.9431 - loss: 0.1570 - val_accuracy: 0.8448 - val_loss: 0.4058\n",
      "Epoch 19/20\n",
      "\u001b[1m157/157\u001b[0m \u001b[32m━━━━━━━━━━━━━━━━━━━━\u001b[0m\u001b[37m\u001b[0m \u001b[1m71s\u001b[0m 449ms/step - accuracy: 0.9397 - loss: 0.1587 - val_accuracy: 0.8240 - val_loss: 0.4451\n",
      "Epoch 20/20\n",
      "\u001b[1m157/157\u001b[0m \u001b[32m━━━━━━━━━━━━━━━━━━━━\u001b[0m\u001b[37m\u001b[0m \u001b[1m87s\u001b[0m 554ms/step - accuracy: 0.9485 - loss: 0.1464 - val_accuracy: 0.8214 - val_loss: 0.4379\n"
     ]
    }
   ],
   "source": [
    "history = model.fit(train_sequences, train_labels, epochs=epochs, batch_size=batch_size, validation_split=0.2)"
   ]
  },
  {
   "cell_type": "markdown",
   "id": "d72d04fe-e39d-464a-875e-a0d6220bb334",
   "metadata": {},
   "source": [
    "# 训练结果与后处理\n",
    "## 网络损失和分类正确率的可视化"
   ]
  },
  {
   "cell_type": "code",
   "execution_count": 7,
   "id": "32caff8f-f9f3-45a2-8899-c929adb4f053",
   "metadata": {},
   "outputs": [
    {
     "data": {
      "image/png": "[encoded data removed]",
      "text/plain": [
       "<Figure size 640x480 with 1 Axes>"
      ]
     },
     "metadata": {},
     "output_type": "display_data"
    },
    {
     "data": {
      "image/png": "[encoded data removed]",
      "text/plain": [
       "<Figure size 640x480 with 1 Axes>"
      ]
     },
     "metadata": {},
     "output_type": "display_data"
    }
   ],
   "source": [
    "# 绘制训练集和验证集的损失\n",
    "plt.plot(history.history['loss'], label='Training Loss')\n",
    "plt.plot(history.history['val_loss'], label='Validation Loss')\n",
    "plt.xlabel('Epochs')\n",
    "plt.xticks(range(0, epochs+1, 5))\n",
    "plt.ylabel('Loss')\n",
    "plt.legend()\n",
    "plt.show()\n",
    "# 绘制训练集和验证集的准确率\n",
    "plt.plot(history.history['accuracy'], label='Training Accuracy')\n",
    "plt.plot(history.history['val_accuracy'], label='Validation Accuracy')\n",
    "plt.xlabel('Epochs')\n",
    "plt.xticks(range(0, epochs+1, 5))\n",
    "plt.ylabel('Accuracy')\n",
    "plt.legend()\n",
    "plt.show()"
   ]
  },
  {
   "cell_type": "markdown",
   "id": "06d94400-5cde-41c9-b9a2-47c495f5cb54",
   "metadata": {},
   "source": [
    "根据曲线可以看出，网络在5次训练左右的验证集Loss值进入一个低谷。\n",
    "\n",
    "后续的训练只有train_acc升高而val_acc不升高，表示开始进入过拟合。\n",
    "\n",
    "不过RNN网络的训练总体来说没有CNN平稳，当训练次数达到10以上时还出现了非常明显的振荡。"
   ]
  },
  {
   "cell_type": "markdown",
   "id": "65901243-e2c6-48b3-b68b-20b04d19be8b",
   "metadata": {},
   "source": [
    "## 抽样检查识别结果"
   ]
  },
  {
   "cell_type": "code",
   "execution_count": 8,
   "id": "c2080e12-96da-4d4e-b8fa-88ae5b3909b3",
   "metadata": {},
   "outputs": [
    {
     "name": "stdout",
     "output_type": "stream",
     "text": [
      "\u001b[1m1/1\u001b[0m \u001b[32m━━━━━━━━━━━━━━━━━━━━\u001b[0m\u001b[37m\u001b[0m \u001b[1m1s\u001b[0m 594ms/step\n",
      "Index: 11, True Label: Positive, Predicted Label: Positive (0.9987)\n",
      "Index: 12, True Label: Positive, Predicted Label: Positive (0.9991)\n",
      "Index: 13, True Label: Negative, Predicted Label: Negative (0.0054)\n",
      "Index: 14, True Label: Positive, Predicted Label: Positive (0.9974)\n",
      "Index: 15, True Label: Negative, Predicted Label: Negative (0.0241)\n",
      "Index: 16, True Label: Negative, Predicted Label: Negative (0.0763)\n",
      "Index: 17, True Label: Negative, Predicted Label: Negative (0.4817)\n",
      "Index: 18, True Label: Positive, Predicted Label: Positive (0.9981)\n",
      "Index: 19, True Label: Positive, Predicted Label: Positive (0.9797)\n",
      "Index: 20, True Label: Positive, Predicted Label: Positive (0.9268)\n"
     ]
    }
   ],
   "source": [
    "# 1. 抽取 10 个样本\n",
    "#因为导入训练集时已经随机提取了，所以这里就不随机了。\n",
    "indices = list(range(11, 21))\n",
    "sampled_sequences = train_sequences[indices]\n",
    "sampled_labels = train_labels[indices]\n",
    "# 2. 使用模型预测\n",
    "predictions = model.predict(sampled_sequences)\n",
    "predicted_classes = (predictions > 0.5).astype(int)  # 二分类：sigmoid输出转0/1\n",
    "# 3. 打印对比结果\n",
    "for i in range(len(indices)):\n",
    "    true_label = class_names[sampled_labels[i]]\n",
    "    pred_label = class_names[predicted_classes[i][0]]\n",
    "    print(f\"Index: {indices[i]}, True Label: {true_label}, Predicted Label: {pred_label} ({predictions[i][0]:.4f})\")  # 同时输出原始概率值"
   ]
  },
  {
   "cell_type": "markdown",
   "id": "67cca76a-76fc-456d-9e51-1dbf740033ec",
   "metadata": {},
   "source": [
    "可以看到，基本所有的样本都正确识别了，而且原始概率值的区分度也比较大（置信度较高）。"
   ]
  },
  {
   "cell_type": "markdown",
   "id": "fe062587-fbb4-4e99-ae80-afa43a975a00",
   "metadata": {},
   "source": [
    "## 保存模型、统计准确率\n",
    "\n",
    "- 执行了一次保存和载入。\n",
    "\n",
    "- 怎么评价也只有一句！"
   ]
  },
  {
   "cell_type": "code",
   "execution_count": 9,
   "id": "11ca3a16-ab1d-40cd-9cfb-02cb53aead7b",
   "metadata": {},
   "outputs": [],
   "source": [
    "model.save('./models/HW3_RNN.keras')  # 保存为 keras 格式"
   ]
  },
  {
   "cell_type": "code",
   "execution_count": 10,
   "id": "45f5cde2-9d2d-42e6-9ba4-ccfb62f623d5",
   "metadata": {},
   "outputs": [
    {
     "name": "stdout",
     "output_type": "stream",
     "text": [
      "\u001b[1m782/782\u001b[0m \u001b[32m━━━━━━━━━━━━━━━━━━━━\u001b[0m\u001b[37m\u001b[0m \u001b[1m60s\u001b[0m 75ms/step - accuracy: 0.8417 - loss: 0.4078\n",
      "Test Accuracy: 0.8372\n"
     ]
    }
   ],
   "source": [
    "# 评估测试集\n",
    "net = load_model('./models/HW3_RNN.keras')  # 加载 keras 文件\n",
    "test_loss, test_acc = net.evaluate(test_sequences, test_labels)\n",
    "print(f\"Test Accuracy: {test_acc:.4f}\")"
   ]
  },
  {
   "cell_type": "markdown",
   "id": "3bf85fdb-37e9-43f8-aac4-96eb3a56e584",
   "metadata": {},
   "source": [
    "根据得到的结果可以看出，网络在测试集上的准确率达到了83.72，已经属于单层LSTM不错的水平了！"
   ]
  },
  {
   "cell_type": "markdown",
   "id": "63809dbd-d40c-4c94-9a4e-71562e867732",
   "metadata": {},
   "source": [
    "# 总结与反思\n",
    "\n",
    "- 本次实验使用了一个Sequential结构的简单RNN模型，使用了LSTM块作为隐藏层单元，实现了85%左右的分类准确率。\n",
    "\n",
    "- 感觉这个RNN网络训练比Alexnet快多了，准确率也高不少，可能是二分类任务更容易一些叭！"
   ]
  }
 ],
 "metadata": {
  "kernelspec": {
   "display_name": "Python 3 (ipykernel)",
   "language": "python",
   "name": "python3"
  },
  "language_info": {
   "codemirror_mode": {
    "name": "ipython",
    "version": 3
   },
   "file_extension": ".py",
   "mimetype": "text/x-python",
   "name": "python",
   "nbconvert_exporter": "python",
   "pygments_lexer": "ipython3",
   "version": "3.9.13"
  }
 },
 "nbformat": 4,
 "nbformat_minor": 5
}
